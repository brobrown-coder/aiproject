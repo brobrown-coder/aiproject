{
 "cells": [
  {
   "cell_type": "code",
   "execution_count": 2,
   "metadata": {},
   "outputs": [
    {
     "name": "stderr",
     "output_type": "stream",
     "text": [
      "c:\\aiproject310\\.venv\\lib\\site-packages\\tqdm\\auto.py:21: TqdmWarning: IProgress not found. Please update jupyter and ipywidgets. See https://ipywidgets.readthedocs.io/en/stable/user_install.html\n",
      "  from .autonotebook import tqdm as notebook_tqdm\n",
      "Summarize dataset: 100%|██████████| 82/82 [00:09<00:00,  8.47it/s, Completed]                                                 \n",
      "Generate report structure: 100%|██████████| 1/1 [00:03<00:00,  3.62s/it]\n",
      "Render HTML: 100%|██████████| 1/1 [00:02<00:00,  2.73s/it]\n",
      "Export report to file: 100%|██████████| 1/1 [00:00<00:00, 62.40it/s]\n"
     ]
    }
   ],
   "source": [
    "import pandas as pd\n",
    "from ydata_profiling import ProfileReport\n",
    "\n",
    "# 데이터 불러오기\n",
    "df = pd.read_csv('./dataset/diabetes.csv', encoding='cp949')\n",
    "\n",
    "# 프로파일링 리포트 생성\n",
    "profile = ProfileReport(\n",
    "    df,\n",
    "    title=\"EDA 보고서\",\n",
    "    explorative=True,\n",
    "    html={\n",
    "        'style': {\n",
    "            'theme': 'united'  # 허용된 theme 중 하나로 변경\n",
    "        }\n",
    "    }\n",
    ")\n",
    "\n",
    "# 리포트 저장 및 출력\n",
    "profile.to_file(\"./report/eda_report.html\")"
   ]
  }
 ],
 "metadata": {
  "kernelspec": {
   "display_name": ".venv",
   "language": "python",
   "name": "python3"
  },
  "language_info": {
   "codemirror_mode": {
    "name": "ipython",
    "version": 3
   },
   "file_extension": ".py",
   "mimetype": "text/x-python",
   "name": "python",
   "nbconvert_exporter": "python",
   "pygments_lexer": "ipython3",
   "version": "3.10.6"
  }
 },
 "nbformat": 4,
 "nbformat_minor": 2
}
